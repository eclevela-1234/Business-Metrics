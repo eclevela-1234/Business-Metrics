{
 "cells": [
  {
   "cell_type": "code",
   "execution_count": 1,
   "metadata": {},
   "outputs": [],
   "source": [
    "import pandas as pd\n",
    "import numpy as np\n",
    "import datetime as dt"
   ]
  },
  {
   "cell_type": "code",
   "execution_count": 3,
   "metadata": {},
   "outputs": [
    {
     "name": "stdout",
     "output_type": "stream",
     "text": [
      "<class 'pandas.core.frame.DataFrame'>\n",
      "RangeIndex: 15525 entries, 0 to 15524\n",
      "Data columns (total 13 columns):\n",
      " #   Column                    Non-Null Count  Dtype  \n",
      "---  ------                    --------------  -----  \n",
      " 0   Unnamed: 0                15525 non-null  int64  \n",
      " 1   DateTime                  15525 non-null  object \n",
      " 2   Sales                     15525 non-null  float64\n",
      " 3   Checks                    15525 non-null  int64  \n",
      " 4   HourlyDryBulbTemperature  15525 non-null  float64\n",
      " 5   HourlyPrecipitation       15435 non-null  float64\n",
      " 6   HourlyRelativeHumidity    15525 non-null  float64\n",
      " 7   Day of Week               15525 non-null  int64  \n",
      " 8   Month                     15525 non-null  int64  \n",
      " 9   Hour                      15525 non-null  int64  \n",
      " 10  Quarter                   15525 non-null  object \n",
      " 11  FY                        15525 non-null  int64  \n",
      " 12  Week Number               15525 non-null  int64  \n",
      "dtypes: float64(4), int64(7), object(2)\n",
      "memory usage: 1.5+ MB\n"
     ]
    }
   ],
   "source": [
    "WeatherSalesDF = pd.read_csv(\"../data/WeatherSales.csv\")\n",
    "WeatherSalesDF.info()"
   ]
  },
  {
   "cell_type": "code",
   "execution_count": null,
   "metadata": {},
   "outputs": [],
   "source": []
  }
 ],
 "metadata": {
  "kernelspec": {
   "display_name": "Python 3 (ipykernel)",
   "language": "python",
   "name": "python3"
  },
  "language_info": {
   "codemirror_mode": {
    "name": "ipython",
    "version": 3
   },
   "file_extension": ".py",
   "mimetype": "text/x-python",
   "name": "python",
   "nbconvert_exporter": "python",
   "pygments_lexer": "ipython3",
   "version": "3.9.13"
  }
 },
 "nbformat": 4,
 "nbformat_minor": 4
}
