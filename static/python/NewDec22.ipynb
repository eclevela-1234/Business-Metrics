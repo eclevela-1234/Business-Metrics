{
 "cells": [
  {
   "cell_type": "code",
   "execution_count": 1,
   "id": "ef6e52d0-a40c-40ea-bb08-b1a885e8c568",
   "metadata": {},
   "outputs": [],
   "source": [
    "import pandas as pd\n",
    "import numpy as np\n",
    "import datetime as dt"
   ]
  },
  {
   "cell_type": "code",
   "execution_count": null,
   "id": "820a54d8-4480-4eaf-b812-c1102ac83e89",
   "metadata": {},
   "outputs": [],
   "source": [
    "WeatherSalesDF = pd.read_csv(\"../data/WeatherSales.csv\")\n",
    "WeatherSalesDF.info()"
   ]
  }
 ],
 "metadata": {
  "kernelspec": {
   "display_name": "Python 3 (ipykernel)",
   "language": "python",
   "name": "python3"
  },
  "language_info": {
   "codemirror_mode": {
    "name": "ipython",
    "version": 3
   },
   "file_extension": ".py",
   "mimetype": "text/x-python",
   "name": "python",
   "nbconvert_exporter": "python",
   "pygments_lexer": "ipython3",
   "version": "3.9.13"
  }
 },
 "nbformat": 4,
 "nbformat_minor": 5
}
