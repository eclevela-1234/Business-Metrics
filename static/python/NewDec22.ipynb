{
 "cells": [
  {
   "cell_type": "code",
   "execution_count": 1,
   "id": "ef6e52d0-a40c-40ea-bb08-b1a885e8c568",
   "metadata": {},
   "outputs": [],
   "source": [
    "import pandas as pd\n",
    "import numpy as np\n",
    "import datetime as dt"
   ]
  },
  {
   "cell_type": "code",
   "execution_count": 2,
   "id": "820a54d8-4480-4eaf-b812-c1102ac83e89",
   "metadata": {},
   "outputs": [
    {
     "name": "stdout",
     "output_type": "stream",
     "text": [
      "<class 'pandas.core.frame.DataFrame'>\n",
      "RangeIndex: 1996 entries, 0 to 1995\n",
      "Data columns (total 4 columns):\n",
      " #   Column                     Non-Null Count  Dtype \n",
      "---  ------                     --------------  ----- \n",
      " 0   Business Date              1996 non-null   object\n",
      " 1   Check Closed Count  (Sum)  1996 non-null   int64 \n",
      " 2   Net Sales Total  (Sum)     1996 non-null   object\n",
      " 3   Revenue Center Name        1996 non-null   object\n",
      "dtypes: int64(1), object(3)\n",
      "memory usage: 62.5+ KB\n"
     ]
    }
   ],
   "source": [
    "ETCSalesDF = pd.read_csv(\"../data/ETCSalesPullDec22.csv\")\n",
    "ETCSalesDF.info()"
   ]
  },
  {
   "cell_type": "code",
   "execution_count": 8,
   "id": "8efcf752-29d8-4a99-a386-f0e6dff2170c",
   "metadata": {},
   "outputs": [
    {
     "name": "stdout",
     "output_type": "stream",
     "text": [
      "  Business Date  Check Closed Count  (Sum) Net Sales Total  (Sum)  \\\n",
      "0      7/1/2017                         59                 613.81   \n",
      "1      7/2/2017                         75                 695.18   \n",
      "2      7/3/2017                        179               1,061.64   \n",
      "3      7/4/2017                          1                  63.42   \n",
      "4      7/5/2017                        228               1,546.13   \n",
      "\n",
      "  Revenue Center Name  \n",
      "0                 ETC  \n",
      "1                 ETC  \n",
      "2                 ETC  \n",
      "3                 ETC  \n",
      "4                 ETC  \n"
     ]
    }
   ],
   "source": [
    "print(ETCSalesDF.head())"
   ]
  },
  {
   "cell_type": "code",
   "execution_count": 10,
   "id": "89edd601-6a31-46d1-9432-de24d6903f79",
   "metadata": {},
   "outputs": [
    {
     "name": "stdout",
     "output_type": "stream",
     "text": [
      "       Date  Checks Net Sales Location\n",
      "0  7/1/2017      59    613.81      ETC\n",
      "1  7/2/2017      75    695.18      ETC\n",
      "2  7/3/2017     179  1,061.64      ETC\n",
      "3  7/4/2017       1     63.42      ETC\n",
      "4  7/5/2017     228  1,546.13      ETC\n"
     ]
    }
   ],
   "source": [
    "ETCSalesDF = ETCSalesDF.rename(columns={\"Business Date\": \"Date\", \"Check Closed Count  (Sum)\": \"Checks\", \"Net Sales Total  (Sum)\": \"Net Sales\", \"Revenue Center Name\": \"Location\"})\n",
    "print(ETCSalesDF.head())"
   ]
  },
  {
   "cell_type": "code",
   "execution_count": null,
   "id": "ba5d732f-7ec1-4c16-be68-801a27d43057",
   "metadata": {},
   "outputs": [],
   "source": []
  }
 ],
 "metadata": {
  "kernelspec": {
   "display_name": "Python 3 (ipykernel)",
   "language": "python",
   "name": "python3"
  },
  "language_info": {
   "codemirror_mode": {
    "name": "ipython",
    "version": 3
   },
   "file_extension": ".py",
   "mimetype": "text/x-python",
   "name": "python",
   "nbconvert_exporter": "python",
   "pygments_lexer": "ipython3",
   "version": "3.9.13"
  }
 },
 "nbformat": 4,
 "nbformat_minor": 5
}
