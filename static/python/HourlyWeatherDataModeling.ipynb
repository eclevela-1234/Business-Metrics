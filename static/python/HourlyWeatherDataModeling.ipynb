{
 "cells": [
  {
   "cell_type": "code",
   "execution_count": 1,
   "metadata": {},
   "outputs": [],
   "source": [
    "import pandas as pd\n",
    "import numpy as np\n",
    "import matplotlib.pyplot as plt\n",
    "import datetime as dt"
   ]
  },
  {
   "cell_type": "code",
   "execution_count": 2,
   "metadata": {},
   "outputs": [
    {
     "data": {
      "text/html": [
       "<div>\n",
       "<style scoped>\n",
       "    .dataframe tbody tr th:only-of-type {\n",
       "        vertical-align: middle;\n",
       "    }\n",
       "\n",
       "    .dataframe tbody tr th {\n",
       "        vertical-align: top;\n",
       "    }\n",
       "\n",
       "    .dataframe thead th {\n",
       "        text-align: right;\n",
       "    }\n",
       "</style>\n",
       "<table border=\"1\" class=\"dataframe\">\n",
       "  <thead>\n",
       "    <tr style=\"text-align: right;\">\n",
       "      <th></th>\n",
       "      <th>DATE</th>\n",
       "      <th>HourlyDryBulbTemperature</th>\n",
       "      <th>HourlyPrecipitation</th>\n",
       "      <th>HourlyRelativeHumidity</th>\n",
       "    </tr>\n",
       "  </thead>\n",
       "  <tbody>\n",
       "    <tr>\n",
       "      <th>0</th>\n",
       "      <td>2017-07-01T00:54:00</td>\n",
       "      <td>75.0</td>\n",
       "      <td>0.0</td>\n",
       "      <td>88.0</td>\n",
       "    </tr>\n",
       "    <tr>\n",
       "      <th>1</th>\n",
       "      <td>2017-07-01T01:54:00</td>\n",
       "      <td>76.0</td>\n",
       "      <td>0.0</td>\n",
       "      <td>88.0</td>\n",
       "    </tr>\n",
       "    <tr>\n",
       "      <th>2</th>\n",
       "      <td>2017-07-01T02:54:00</td>\n",
       "      <td>75.0</td>\n",
       "      <td>0.0</td>\n",
       "      <td>90.0</td>\n",
       "    </tr>\n",
       "    <tr>\n",
       "      <th>3</th>\n",
       "      <td>2017-07-01T03:54:00</td>\n",
       "      <td>75.0</td>\n",
       "      <td>0.0</td>\n",
       "      <td>90.0</td>\n",
       "    </tr>\n",
       "    <tr>\n",
       "      <th>4</th>\n",
       "      <td>2017-07-01T04:54:00</td>\n",
       "      <td>75.0</td>\n",
       "      <td>0.0</td>\n",
       "      <td>90.0</td>\n",
       "    </tr>\n",
       "    <tr>\n",
       "      <th>...</th>\n",
       "      <td>...</td>\n",
       "      <td>...</td>\n",
       "      <td>...</td>\n",
       "      <td>...</td>\n",
       "    </tr>\n",
       "    <tr>\n",
       "      <th>36307</th>\n",
       "      <td>2021-08-22T22:54:00</td>\n",
       "      <td>73.0</td>\n",
       "      <td>0.0</td>\n",
       "      <td>87.0</td>\n",
       "    </tr>\n",
       "    <tr>\n",
       "      <th>36308</th>\n",
       "      <td>2021-08-22T23:54:00</td>\n",
       "      <td>71.0</td>\n",
       "      <td>0.0</td>\n",
       "      <td>96.0</td>\n",
       "    </tr>\n",
       "    <tr>\n",
       "      <th>36309</th>\n",
       "      <td>2021-08-23T00:54:00</td>\n",
       "      <td>72.0</td>\n",
       "      <td>0.0</td>\n",
       "      <td>94.0</td>\n",
       "    </tr>\n",
       "    <tr>\n",
       "      <th>36310</th>\n",
       "      <td>2021-08-23T01:54:00</td>\n",
       "      <td>71.0</td>\n",
       "      <td>NaN</td>\n",
       "      <td>96.0</td>\n",
       "    </tr>\n",
       "    <tr>\n",
       "      <th>36311</th>\n",
       "      <td>2021-08-23T02:54:00</td>\n",
       "      <td>71.0</td>\n",
       "      <td>NaN</td>\n",
       "      <td>96.0</td>\n",
       "    </tr>\n",
       "  </tbody>\n",
       "</table>\n",
       "<p>36312 rows × 4 columns</p>\n",
       "</div>"
      ],
      "text/plain": [
       "                      DATE  HourlyDryBulbTemperature  HourlyPrecipitation  \\\n",
       "0      2017-07-01T00:54:00                      75.0                  0.0   \n",
       "1      2017-07-01T01:54:00                      76.0                  0.0   \n",
       "2      2017-07-01T02:54:00                      75.0                  0.0   \n",
       "3      2017-07-01T03:54:00                      75.0                  0.0   \n",
       "4      2017-07-01T04:54:00                      75.0                  0.0   \n",
       "...                    ...                       ...                  ...   \n",
       "36307  2021-08-22T22:54:00                      73.0                  0.0   \n",
       "36308  2021-08-22T23:54:00                      71.0                  0.0   \n",
       "36309  2021-08-23T00:54:00                      72.0                  0.0   \n",
       "36310  2021-08-23T01:54:00                      71.0                  NaN   \n",
       "36311  2021-08-23T02:54:00                      71.0                  NaN   \n",
       "\n",
       "       HourlyRelativeHumidity  \n",
       "0                        88.0  \n",
       "1                        88.0  \n",
       "2                        90.0  \n",
       "3                        90.0  \n",
       "4                        90.0  \n",
       "...                       ...  \n",
       "36307                    87.0  \n",
       "36308                    96.0  \n",
       "36309                    94.0  \n",
       "36310                    96.0  \n",
       "36311                    96.0  \n",
       "\n",
       "[36312 rows x 4 columns]"
      ]
     },
     "execution_count": 2,
     "metadata": {},
     "output_type": "execute_result"
    }
   ],
   "source": [
    "weather_path = \"../data/HourlyWeatherData.csv\"\n",
    "weatherDF = pd.read_csv(weather_path)\n",
    "weatherDF\n"
   ]
  },
  {
   "cell_type": "code",
   "execution_count": 3,
   "metadata": {},
   "outputs": [
    {
     "name": "stdout",
     "output_type": "stream",
     "text": [
      "<class 'pandas.core.frame.DataFrame'>\n",
      "RangeIndex: 36312 entries, 0 to 36311\n",
      "Data columns (total 4 columns):\n",
      " #   Column                    Non-Null Count  Dtype         \n",
      "---  ------                    --------------  -----         \n",
      " 0   DATE                      36312 non-null  datetime64[ns]\n",
      " 1   HourlyDryBulbTemperature  36310 non-null  float64       \n",
      " 2   HourlyPrecipitation       36109 non-null  float64       \n",
      " 3   HourlyRelativeHumidity    36310 non-null  float64       \n",
      "dtypes: datetime64[ns](1), float64(3)\n",
      "memory usage: 1.1 MB\n"
     ]
    }
   ],
   "source": [
    "weatherDF['DATE'] = pd.to_datetime(weatherDF['DATE'])\n",
    "weatherDF.info()"
   ]
  },
  {
   "cell_type": "code",
   "execution_count": 4,
   "metadata": {},
   "outputs": [
    {
     "data": {
      "text/html": [
       "<div>\n",
       "<style scoped>\n",
       "    .dataframe tbody tr th:only-of-type {\n",
       "        vertical-align: middle;\n",
       "    }\n",
       "\n",
       "    .dataframe tbody tr th {\n",
       "        vertical-align: top;\n",
       "    }\n",
       "\n",
       "    .dataframe thead th {\n",
       "        text-align: right;\n",
       "    }\n",
       "</style>\n",
       "<table border=\"1\" class=\"dataframe\">\n",
       "  <thead>\n",
       "    <tr style=\"text-align: right;\">\n",
       "      <th></th>\n",
       "      <th>DATE</th>\n",
       "      <th>HourlyDryBulbTemperature</th>\n",
       "      <th>HourlyPrecipitation</th>\n",
       "      <th>HourlyRelativeHumidity</th>\n",
       "    </tr>\n",
       "  </thead>\n",
       "  <tbody>\n",
       "    <tr>\n",
       "      <th>0</th>\n",
       "      <td>2017-07-01 00:00:00</td>\n",
       "      <td>75.0</td>\n",
       "      <td>0.0</td>\n",
       "      <td>88.0</td>\n",
       "    </tr>\n",
       "    <tr>\n",
       "      <th>1</th>\n",
       "      <td>2017-07-01 01:00:00</td>\n",
       "      <td>76.0</td>\n",
       "      <td>0.0</td>\n",
       "      <td>88.0</td>\n",
       "    </tr>\n",
       "    <tr>\n",
       "      <th>2</th>\n",
       "      <td>2017-07-01 02:00:00</td>\n",
       "      <td>75.0</td>\n",
       "      <td>0.0</td>\n",
       "      <td>90.0</td>\n",
       "    </tr>\n",
       "    <tr>\n",
       "      <th>3</th>\n",
       "      <td>2017-07-01 03:00:00</td>\n",
       "      <td>75.0</td>\n",
       "      <td>0.0</td>\n",
       "      <td>90.0</td>\n",
       "    </tr>\n",
       "    <tr>\n",
       "      <th>4</th>\n",
       "      <td>2017-07-01 04:00:00</td>\n",
       "      <td>75.0</td>\n",
       "      <td>0.0</td>\n",
       "      <td>90.0</td>\n",
       "    </tr>\n",
       "    <tr>\n",
       "      <th>...</th>\n",
       "      <td>...</td>\n",
       "      <td>...</td>\n",
       "      <td>...</td>\n",
       "      <td>...</td>\n",
       "    </tr>\n",
       "    <tr>\n",
       "      <th>36307</th>\n",
       "      <td>2021-08-22 22:00:00</td>\n",
       "      <td>73.0</td>\n",
       "      <td>0.0</td>\n",
       "      <td>87.0</td>\n",
       "    </tr>\n",
       "    <tr>\n",
       "      <th>36308</th>\n",
       "      <td>2021-08-22 23:00:00</td>\n",
       "      <td>71.0</td>\n",
       "      <td>0.0</td>\n",
       "      <td>96.0</td>\n",
       "    </tr>\n",
       "    <tr>\n",
       "      <th>36309</th>\n",
       "      <td>2021-08-23 00:00:00</td>\n",
       "      <td>72.0</td>\n",
       "      <td>0.0</td>\n",
       "      <td>94.0</td>\n",
       "    </tr>\n",
       "    <tr>\n",
       "      <th>36310</th>\n",
       "      <td>2021-08-23 01:00:00</td>\n",
       "      <td>71.0</td>\n",
       "      <td>NaN</td>\n",
       "      <td>96.0</td>\n",
       "    </tr>\n",
       "    <tr>\n",
       "      <th>36311</th>\n",
       "      <td>2021-08-23 02:00:00</td>\n",
       "      <td>71.0</td>\n",
       "      <td>NaN</td>\n",
       "      <td>96.0</td>\n",
       "    </tr>\n",
       "  </tbody>\n",
       "</table>\n",
       "<p>36312 rows × 4 columns</p>\n",
       "</div>"
      ],
      "text/plain": [
       "                     DATE  HourlyDryBulbTemperature  HourlyPrecipitation  \\\n",
       "0     2017-07-01 00:00:00                      75.0                  0.0   \n",
       "1     2017-07-01 01:00:00                      76.0                  0.0   \n",
       "2     2017-07-01 02:00:00                      75.0                  0.0   \n",
       "3     2017-07-01 03:00:00                      75.0                  0.0   \n",
       "4     2017-07-01 04:00:00                      75.0                  0.0   \n",
       "...                   ...                       ...                  ...   \n",
       "36307 2021-08-22 22:00:00                      73.0                  0.0   \n",
       "36308 2021-08-22 23:00:00                      71.0                  0.0   \n",
       "36309 2021-08-23 00:00:00                      72.0                  0.0   \n",
       "36310 2021-08-23 01:00:00                      71.0                  NaN   \n",
       "36311 2021-08-23 02:00:00                      71.0                  NaN   \n",
       "\n",
       "       HourlyRelativeHumidity  \n",
       "0                        88.0  \n",
       "1                        88.0  \n",
       "2                        90.0  \n",
       "3                        90.0  \n",
       "4                        90.0  \n",
       "...                       ...  \n",
       "36307                    87.0  \n",
       "36308                    96.0  \n",
       "36309                    94.0  \n",
       "36310                    96.0  \n",
       "36311                    96.0  \n",
       "\n",
       "[36312 rows x 4 columns]"
      ]
     },
     "execution_count": 4,
     "metadata": {},
     "output_type": "execute_result"
    }
   ],
   "source": [
    "# Subtract minutes to get hour values on weather table\n",
    "weatherDF['DATE'] = weatherDF['DATE'] - dt.timedelta(minutes = 54)\n",
    "weatherDF"
   ]
  },
  {
   "cell_type": "code",
   "execution_count": 5,
   "metadata": {},
   "outputs": [],
   "source": [
    "salespath = \"../data/HourlySalesFullNoCovid.csv\" \n",
    "salesDF = pd.read_csv(salespath)\n",
    "salesDF[\"Business Hour\"] = salesDF[\"Business Hour\"].str[:8]\n"
   ]
  },
  {
   "cell_type": "code",
   "execution_count": 6,
   "metadata": {},
   "outputs": [
    {
     "name": "stdout",
     "output_type": "stream",
     "text": [
      "<class 'pandas.core.frame.DataFrame'>\n",
      "RangeIndex: 58237 entries, 0 to 58236\n",
      "Data columns (total 5 columns):\n",
      " #   Column         Non-Null Count  Dtype         \n",
      "---  ------         --------------  -----         \n",
      " 0   Business Date  58237 non-null  object        \n",
      " 1   Business Hour  58237 non-null  object        \n",
      " 2   Sales          58237 non-null  object        \n",
      " 3   Checks         58237 non-null  int64         \n",
      " 4   DateTime       58237 non-null  datetime64[ns]\n",
      "dtypes: datetime64[ns](1), int64(1), object(3)\n",
      "memory usage: 2.2+ MB\n"
     ]
    }
   ],
   "source": [
    "salesDF['DateTime'] = pd.to_datetime(salesDF['Business Date'] + \" \" + salesDF['Business Hour'])\n",
    "salesDF = salesDF.replace(',','', regex=True)\n",
    "salesDF.info()"
   ]
  },
  {
   "cell_type": "code",
   "execution_count": 7,
   "metadata": {},
   "outputs": [],
   "source": [
    "salesDF['Sales']= salesDF['Sales'].apply(pd.to_numeric,errors='coerce')"
   ]
  },
  {
   "cell_type": "code",
   "execution_count": 8,
   "metadata": {},
   "outputs": [],
   "source": [
    "salesDF = salesDF.drop(['Business Date','Business Hour'], axis=1)"
   ]
  },
  {
   "cell_type": "code",
   "execution_count": 9,
   "metadata": {},
   "outputs": [],
   "source": [
    "groupedSalesDF = salesDF.groupby(['DateTime']).sum()\n",
    "groupedSalesDF.reset_index(level=0, inplace=True)"
   ]
  },
  {
   "cell_type": "code",
   "execution_count": 10,
   "metadata": {},
   "outputs": [
    {
     "data": {
      "text/html": [
       "<div>\n",
       "<style scoped>\n",
       "    .dataframe tbody tr th:only-of-type {\n",
       "        vertical-align: middle;\n",
       "    }\n",
       "\n",
       "    .dataframe tbody tr th {\n",
       "        vertical-align: top;\n",
       "    }\n",
       "\n",
       "    .dataframe thead th {\n",
       "        text-align: right;\n",
       "    }\n",
       "</style>\n",
       "<table border=\"1\" class=\"dataframe\">\n",
       "  <thead>\n",
       "    <tr style=\"text-align: right;\">\n",
       "      <th></th>\n",
       "      <th>DateTime</th>\n",
       "      <th>Sales</th>\n",
       "      <th>Checks</th>\n",
       "      <th>HourlyDryBulbTemperature</th>\n",
       "      <th>HourlyPrecipitation</th>\n",
       "      <th>HourlyRelativeHumidity</th>\n",
       "    </tr>\n",
       "  </thead>\n",
       "  <tbody>\n",
       "    <tr>\n",
       "      <th>0</th>\n",
       "      <td>2017-07-01 11:00:00</td>\n",
       "      <td>34.98</td>\n",
       "      <td>6</td>\n",
       "      <td>86.0</td>\n",
       "      <td>0.0</td>\n",
       "      <td>65.0</td>\n",
       "    </tr>\n",
       "    <tr>\n",
       "      <th>1</th>\n",
       "      <td>2017-07-01 12:00:00</td>\n",
       "      <td>69.36</td>\n",
       "      <td>10</td>\n",
       "      <td>86.0</td>\n",
       "      <td>0.0</td>\n",
       "      <td>65.0</td>\n",
       "    </tr>\n",
       "    <tr>\n",
       "      <th>2</th>\n",
       "      <td>2017-07-01 13:00:00</td>\n",
       "      <td>72.88</td>\n",
       "      <td>6</td>\n",
       "      <td>90.0</td>\n",
       "      <td>0.0</td>\n",
       "      <td>59.0</td>\n",
       "    </tr>\n",
       "    <tr>\n",
       "      <th>3</th>\n",
       "      <td>2017-07-01 14:00:00</td>\n",
       "      <td>84.89</td>\n",
       "      <td>12</td>\n",
       "      <td>90.0</td>\n",
       "      <td>0.0</td>\n",
       "      <td>58.0</td>\n",
       "    </tr>\n",
       "    <tr>\n",
       "      <th>4</th>\n",
       "      <td>2017-07-01 15:00:00</td>\n",
       "      <td>103.16</td>\n",
       "      <td>5</td>\n",
       "      <td>89.0</td>\n",
       "      <td>0.0</td>\n",
       "      <td>57.0</td>\n",
       "    </tr>\n",
       "    <tr>\n",
       "      <th>...</th>\n",
       "      <td>...</td>\n",
       "      <td>...</td>\n",
       "      <td>...</td>\n",
       "      <td>...</td>\n",
       "      <td>...</td>\n",
       "      <td>...</td>\n",
       "    </tr>\n",
       "    <tr>\n",
       "      <th>15520</th>\n",
       "      <td>2021-06-29 14:00:00</td>\n",
       "      <td>87.02</td>\n",
       "      <td>15</td>\n",
       "      <td>92.0</td>\n",
       "      <td>0.0</td>\n",
       "      <td>46.0</td>\n",
       "    </tr>\n",
       "    <tr>\n",
       "      <th>15521</th>\n",
       "      <td>2021-06-29 15:00:00</td>\n",
       "      <td>92.81</td>\n",
       "      <td>13</td>\n",
       "      <td>92.0</td>\n",
       "      <td>0.0</td>\n",
       "      <td>47.0</td>\n",
       "    </tr>\n",
       "    <tr>\n",
       "      <th>15522</th>\n",
       "      <td>2021-06-29 16:00:00</td>\n",
       "      <td>116.08</td>\n",
       "      <td>17</td>\n",
       "      <td>91.0</td>\n",
       "      <td>0.0</td>\n",
       "      <td>45.0</td>\n",
       "    </tr>\n",
       "    <tr>\n",
       "      <th>15523</th>\n",
       "      <td>2021-06-29 17:00:00</td>\n",
       "      <td>253.88</td>\n",
       "      <td>23</td>\n",
       "      <td>90.0</td>\n",
       "      <td>0.0</td>\n",
       "      <td>44.0</td>\n",
       "    </tr>\n",
       "    <tr>\n",
       "      <th>15524</th>\n",
       "      <td>2021-06-29 18:00:00</td>\n",
       "      <td>100.16</td>\n",
       "      <td>8</td>\n",
       "      <td>87.0</td>\n",
       "      <td>0.0</td>\n",
       "      <td>51.0</td>\n",
       "    </tr>\n",
       "  </tbody>\n",
       "</table>\n",
       "<p>15525 rows × 6 columns</p>\n",
       "</div>"
      ],
      "text/plain": [
       "                 DateTime   Sales  Checks  HourlyDryBulbTemperature  \\\n",
       "0     2017-07-01 11:00:00   34.98       6                      86.0   \n",
       "1     2017-07-01 12:00:00   69.36      10                      86.0   \n",
       "2     2017-07-01 13:00:00   72.88       6                      90.0   \n",
       "3     2017-07-01 14:00:00   84.89      12                      90.0   \n",
       "4     2017-07-01 15:00:00  103.16       5                      89.0   \n",
       "...                   ...     ...     ...                       ...   \n",
       "15520 2021-06-29 14:00:00   87.02      15                      92.0   \n",
       "15521 2021-06-29 15:00:00   92.81      13                      92.0   \n",
       "15522 2021-06-29 16:00:00  116.08      17                      91.0   \n",
       "15523 2021-06-29 17:00:00  253.88      23                      90.0   \n",
       "15524 2021-06-29 18:00:00  100.16       8                      87.0   \n",
       "\n",
       "       HourlyPrecipitation  HourlyRelativeHumidity  \n",
       "0                      0.0                    65.0  \n",
       "1                      0.0                    65.0  \n",
       "2                      0.0                    59.0  \n",
       "3                      0.0                    58.0  \n",
       "4                      0.0                    57.0  \n",
       "...                    ...                     ...  \n",
       "15520                  0.0                    46.0  \n",
       "15521                  0.0                    47.0  \n",
       "15522                  0.0                    45.0  \n",
       "15523                  0.0                    44.0  \n",
       "15524                  0.0                    51.0  \n",
       "\n",
       "[15525 rows x 6 columns]"
      ]
     },
     "execution_count": 10,
     "metadata": {},
     "output_type": "execute_result"
    }
   ],
   "source": [
    "WeatherSalesDF = groupedSalesDF.merge(weatherDF, how=\"inner\", left_on=\"DateTime\", right_on= \"DATE\")\n",
    "WeatherSalesDF = WeatherSalesDF.drop(['DATE'], axis=1)\n",
    "WeatherSalesDF"
   ]
  },
  {
   "cell_type": "code",
   "execution_count": 11,
   "metadata": {},
   "outputs": [
    {
     "name": "stdout",
     "output_type": "stream",
     "text": [
      "<class 'pandas.core.frame.DataFrame'>\n",
      "Int64Index: 15525 entries, 0 to 15524\n",
      "Data columns (total 6 columns):\n",
      " #   Column                    Non-Null Count  Dtype         \n",
      "---  ------                    --------------  -----         \n",
      " 0   DateTime                  15525 non-null  datetime64[ns]\n",
      " 1   Sales                     15525 non-null  float64       \n",
      " 2   Checks                    15525 non-null  int64         \n",
      " 3   HourlyDryBulbTemperature  15525 non-null  float64       \n",
      " 4   HourlyPrecipitation       15435 non-null  float64       \n",
      " 5   HourlyRelativeHumidity    15525 non-null  float64       \n",
      "dtypes: datetime64[ns](1), float64(4), int64(1)\n",
      "memory usage: 849.0 KB\n"
     ]
    }
   ],
   "source": [
    "WeatherSalesDF.info()"
   ]
  },
  {
   "cell_type": "code",
   "execution_count": 26,
   "metadata": {},
   "outputs": [],
   "source": [
    "WeatherSalesDF['Day of Week'] = WeatherSalesDF[\"DateTime\"].dt.dayofweek\n",
    "WeatherSalesDF['Month'] = WeatherSalesDF[\"DateTime\"].dt.month\n",
    "WeatherSalesDF['Hour'] = WeatherSalesDF[\"DateTime\"].dt.hour\n",
    "WeatherSalesDF['Year'] = WeatherSalesDF[\"DateTime\"].dt.year\n",
    "WeatherSalesDF['Quarter'] = WeatherSalesDF[\"DateTime\"].dt.to_period('Q-JUN')\n",
    "WeatherSalesDF['FY'] = WeatherSalesDF[\"Quarter\"].dt.qyear\n",
    "WeatherSalesDF['Week Number'] = WeatherSalesDF[\"DateTime\"].dt.isocalendar().week\n",
    "WeatherSalesDF = WeatherSalesDF.drop([\"Year\"], axis=1)"
   ]
  },
  {
   "cell_type": "code",
   "execution_count": 27,
   "metadata": {},
   "outputs": [
    {
     "data": {
      "text/plain": [
       "count    15525.000000\n",
       "mean       450.926263\n",
       "std        318.799840\n",
       "min         -1.300000\n",
       "20%        125.094000\n",
       "40%        359.450000\n",
       "50%        444.550000\n",
       "60%        520.602000\n",
       "80%        701.838000\n",
       "max       3760.790000\n",
       "Name: Sales, dtype: float64"
      ]
     },
     "execution_count": 27,
     "metadata": {},
     "output_type": "execute_result"
    }
   ],
   "source": [
    "WeatherSalesDF[\"Sales\"].describe(percentiles = [.2,.4,.6,.8])"
   ]
  },
  {
   "cell_type": "code",
   "execution_count": 28,
   "metadata": {},
   "outputs": [
    {
     "data": {
      "text/html": [
       "<div>\n",
       "<style scoped>\n",
       "    .dataframe tbody tr th:only-of-type {\n",
       "        vertical-align: middle;\n",
       "    }\n",
       "\n",
       "    .dataframe tbody tr th {\n",
       "        vertical-align: top;\n",
       "    }\n",
       "\n",
       "    .dataframe thead th {\n",
       "        text-align: right;\n",
       "    }\n",
       "</style>\n",
       "<table border=\"1\" class=\"dataframe\">\n",
       "  <thead>\n",
       "    <tr style=\"text-align: right;\">\n",
       "      <th></th>\n",
       "      <th>DateTime</th>\n",
       "      <th>Sales</th>\n",
       "      <th>Checks</th>\n",
       "      <th>HourlyDryBulbTemperature</th>\n",
       "      <th>HourlyPrecipitation</th>\n",
       "      <th>HourlyRelativeHumidity</th>\n",
       "      <th>Day of Week</th>\n",
       "      <th>Month</th>\n",
       "      <th>Quarter</th>\n",
       "      <th>FY</th>\n",
       "      <th>Week Number</th>\n",
       "      <th>Percentile</th>\n",
       "      <th>Hour</th>\n",
       "    </tr>\n",
       "  </thead>\n",
       "  <tbody>\n",
       "    <tr>\n",
       "      <th>0</th>\n",
       "      <td>2017-07-01 11:00:00</td>\n",
       "      <td>34.98</td>\n",
       "      <td>6</td>\n",
       "      <td>86.0</td>\n",
       "      <td>0.0</td>\n",
       "      <td>65.0</td>\n",
       "      <td>5</td>\n",
       "      <td>7</td>\n",
       "      <td>2018Q1</td>\n",
       "      <td>2018</td>\n",
       "      <td>26</td>\n",
       "      <td>0</td>\n",
       "      <td>11</td>\n",
       "    </tr>\n",
       "    <tr>\n",
       "      <th>1</th>\n",
       "      <td>2017-07-01 12:00:00</td>\n",
       "      <td>69.36</td>\n",
       "      <td>10</td>\n",
       "      <td>86.0</td>\n",
       "      <td>0.0</td>\n",
       "      <td>65.0</td>\n",
       "      <td>5</td>\n",
       "      <td>7</td>\n",
       "      <td>2018Q1</td>\n",
       "      <td>2018</td>\n",
       "      <td>26</td>\n",
       "      <td>0</td>\n",
       "      <td>12</td>\n",
       "    </tr>\n",
       "    <tr>\n",
       "      <th>2</th>\n",
       "      <td>2017-07-01 13:00:00</td>\n",
       "      <td>72.88</td>\n",
       "      <td>6</td>\n",
       "      <td>90.0</td>\n",
       "      <td>0.0</td>\n",
       "      <td>59.0</td>\n",
       "      <td>5</td>\n",
       "      <td>7</td>\n",
       "      <td>2018Q1</td>\n",
       "      <td>2018</td>\n",
       "      <td>26</td>\n",
       "      <td>0</td>\n",
       "      <td>13</td>\n",
       "    </tr>\n",
       "    <tr>\n",
       "      <th>3</th>\n",
       "      <td>2017-07-01 14:00:00</td>\n",
       "      <td>84.89</td>\n",
       "      <td>12</td>\n",
       "      <td>90.0</td>\n",
       "      <td>0.0</td>\n",
       "      <td>58.0</td>\n",
       "      <td>5</td>\n",
       "      <td>7</td>\n",
       "      <td>2018Q1</td>\n",
       "      <td>2018</td>\n",
       "      <td>26</td>\n",
       "      <td>0</td>\n",
       "      <td>14</td>\n",
       "    </tr>\n",
       "    <tr>\n",
       "      <th>4</th>\n",
       "      <td>2017-07-01 15:00:00</td>\n",
       "      <td>103.16</td>\n",
       "      <td>5</td>\n",
       "      <td>89.0</td>\n",
       "      <td>0.0</td>\n",
       "      <td>57.0</td>\n",
       "      <td>5</td>\n",
       "      <td>7</td>\n",
       "      <td>2018Q1</td>\n",
       "      <td>2018</td>\n",
       "      <td>26</td>\n",
       "      <td>0</td>\n",
       "      <td>15</td>\n",
       "    </tr>\n",
       "    <tr>\n",
       "      <th>...</th>\n",
       "      <td>...</td>\n",
       "      <td>...</td>\n",
       "      <td>...</td>\n",
       "      <td>...</td>\n",
       "      <td>...</td>\n",
       "      <td>...</td>\n",
       "      <td>...</td>\n",
       "      <td>...</td>\n",
       "      <td>...</td>\n",
       "      <td>...</td>\n",
       "      <td>...</td>\n",
       "      <td>...</td>\n",
       "      <td>...</td>\n",
       "    </tr>\n",
       "    <tr>\n",
       "      <th>15520</th>\n",
       "      <td>2021-06-29 14:00:00</td>\n",
       "      <td>87.02</td>\n",
       "      <td>15</td>\n",
       "      <td>92.0</td>\n",
       "      <td>0.0</td>\n",
       "      <td>46.0</td>\n",
       "      <td>1</td>\n",
       "      <td>6</td>\n",
       "      <td>2021Q4</td>\n",
       "      <td>2021</td>\n",
       "      <td>26</td>\n",
       "      <td>0</td>\n",
       "      <td>14</td>\n",
       "    </tr>\n",
       "    <tr>\n",
       "      <th>15521</th>\n",
       "      <td>2021-06-29 15:00:00</td>\n",
       "      <td>92.81</td>\n",
       "      <td>13</td>\n",
       "      <td>92.0</td>\n",
       "      <td>0.0</td>\n",
       "      <td>47.0</td>\n",
       "      <td>1</td>\n",
       "      <td>6</td>\n",
       "      <td>2021Q4</td>\n",
       "      <td>2021</td>\n",
       "      <td>26</td>\n",
       "      <td>0</td>\n",
       "      <td>15</td>\n",
       "    </tr>\n",
       "    <tr>\n",
       "      <th>15522</th>\n",
       "      <td>2021-06-29 16:00:00</td>\n",
       "      <td>116.08</td>\n",
       "      <td>17</td>\n",
       "      <td>91.0</td>\n",
       "      <td>0.0</td>\n",
       "      <td>45.0</td>\n",
       "      <td>1</td>\n",
       "      <td>6</td>\n",
       "      <td>2021Q4</td>\n",
       "      <td>2021</td>\n",
       "      <td>26</td>\n",
       "      <td>0</td>\n",
       "      <td>16</td>\n",
       "    </tr>\n",
       "    <tr>\n",
       "      <th>15523</th>\n",
       "      <td>2021-06-29 17:00:00</td>\n",
       "      <td>253.88</td>\n",
       "      <td>23</td>\n",
       "      <td>90.0</td>\n",
       "      <td>0.0</td>\n",
       "      <td>44.0</td>\n",
       "      <td>1</td>\n",
       "      <td>6</td>\n",
       "      <td>2021Q4</td>\n",
       "      <td>2021</td>\n",
       "      <td>26</td>\n",
       "      <td>20</td>\n",
       "      <td>17</td>\n",
       "    </tr>\n",
       "    <tr>\n",
       "      <th>15524</th>\n",
       "      <td>2021-06-29 18:00:00</td>\n",
       "      <td>100.16</td>\n",
       "      <td>8</td>\n",
       "      <td>87.0</td>\n",
       "      <td>0.0</td>\n",
       "      <td>51.0</td>\n",
       "      <td>1</td>\n",
       "      <td>6</td>\n",
       "      <td>2021Q4</td>\n",
       "      <td>2021</td>\n",
       "      <td>26</td>\n",
       "      <td>0</td>\n",
       "      <td>18</td>\n",
       "    </tr>\n",
       "  </tbody>\n",
       "</table>\n",
       "<p>15525 rows × 13 columns</p>\n",
       "</div>"
      ],
      "text/plain": [
       "                 DateTime   Sales  Checks  HourlyDryBulbTemperature  \\\n",
       "0     2017-07-01 11:00:00   34.98       6                      86.0   \n",
       "1     2017-07-01 12:00:00   69.36      10                      86.0   \n",
       "2     2017-07-01 13:00:00   72.88       6                      90.0   \n",
       "3     2017-07-01 14:00:00   84.89      12                      90.0   \n",
       "4     2017-07-01 15:00:00  103.16       5                      89.0   \n",
       "...                   ...     ...     ...                       ...   \n",
       "15520 2021-06-29 14:00:00   87.02      15                      92.0   \n",
       "15521 2021-06-29 15:00:00   92.81      13                      92.0   \n",
       "15522 2021-06-29 16:00:00  116.08      17                      91.0   \n",
       "15523 2021-06-29 17:00:00  253.88      23                      90.0   \n",
       "15524 2021-06-29 18:00:00  100.16       8                      87.0   \n",
       "\n",
       "       HourlyPrecipitation  HourlyRelativeHumidity  Day of Week  Month  \\\n",
       "0                      0.0                    65.0            5      7   \n",
       "1                      0.0                    65.0            5      7   \n",
       "2                      0.0                    59.0            5      7   \n",
       "3                      0.0                    58.0            5      7   \n",
       "4                      0.0                    57.0            5      7   \n",
       "...                    ...                     ...          ...    ...   \n",
       "15520                  0.0                    46.0            1      6   \n",
       "15521                  0.0                    47.0            1      6   \n",
       "15522                  0.0                    45.0            1      6   \n",
       "15523                  0.0                    44.0            1      6   \n",
       "15524                  0.0                    51.0            1      6   \n",
       "\n",
       "      Quarter    FY  Week Number Percentile  Hour  \n",
       "0      2018Q1  2018           26          0    11  \n",
       "1      2018Q1  2018           26          0    12  \n",
       "2      2018Q1  2018           26          0    13  \n",
       "3      2018Q1  2018           26          0    14  \n",
       "4      2018Q1  2018           26          0    15  \n",
       "...       ...   ...          ...        ...   ...  \n",
       "15520  2021Q4  2021           26          0    14  \n",
       "15521  2021Q4  2021           26          0    15  \n",
       "15522  2021Q4  2021           26          0    16  \n",
       "15523  2021Q4  2021           26         20    17  \n",
       "15524  2021Q4  2021           26          0    18  \n",
       "\n",
       "[15525 rows x 13 columns]"
      ]
     },
     "execution_count": 28,
     "metadata": {},
     "output_type": "execute_result"
    }
   ],
   "source": [
    "bins = [-1.300000, 125.094000, 359.450000, 444.550000, 520.602000, 701.838000, 3760.790000]\n",
    "group_names = [0, 20, 40, 60, 80, 100]\n",
    "WeatherSalesDF[\"Percentile\"] = pd.cut(WeatherSalesDF['Sales'], bins, labels=group_names, include_lowest=True)\n",
    "WeatherSalesDF"
   ]
  },
  {
   "cell_type": "code",
   "execution_count": 29,
   "metadata": {},
   "outputs": [
    {
     "data": {
      "text/plain": [
       "<AxesSubplot:ylabel='Frequency'>"
      ]
     },
     "execution_count": 29,
     "metadata": {},
     "output_type": "execute_result"
    },
    {
     "data": {
      "image/png": "[encoded data removed]",
      "text/plain": [
       "<Figure size 432x288 with 1 Axes>"
      ]
     },
     "metadata": {
      "needs_background": "light"
     },
     "output_type": "display_data"
    }
   ],
   "source": [
    "WeatherSalesDF[\"Sales\"].plot(kind='hist')"
   ]
  },
  {
   "cell_type": "code",
   "execution_count": 16,
   "metadata": {},
   "outputs": [],
   "source": [
    "# WeatherSalesDF.dtypes()"
   ]
  },
  {
   "cell_type": "code",
   "execution_count": 30,
   "metadata": {},
   "outputs": [],
   "source": [
    "from sklearn.ensemble import RandomForestClassifier"
   ]
  },
  {
   "cell_type": "code",
   "execution_count": 31,
   "metadata": {},
   "outputs": [],
   "source": [
    "data = WeatherSalesDF.drop('Quarter', axis=1)\n",
    "data = data.drop('Sales', axis=1)\n",
    "data = data.drop('DateTime', axis=1)\n",
    "data = data.drop('Percentile', axis=1)\n",
    "data = data.drop('Checks', axis=1)\n",
    "# Dropping datetime Cats here\n",
    "data = data.drop('FY', axis=1)\n",
    "data = data.drop('Month', axis=1)\n",
    "\n",
    "data = data.drop('HourlyDryBulbTemperature', axis=1)\n",
    "data = data.drop('HourlyPrecipitation', axis=1)\n",
    "data = data.drop('HourlyRelativeHumidity', axis=1)\n",
    "feature_names = []\n",
    "for column in data.columns:\n",
    "    feature_names.append(column)\n",
    "    \n",
    "target = WeatherSalesDF['Percentile']"
   ]
  },
  {
   "cell_type": "code",
   "execution_count": 32,
   "metadata": {},
   "outputs": [
    {
     "data": {
      "text/plain": [
       "['Day of Week', 'Week Number', 'Hour']"
      ]
     },
     "execution_count": 32,
     "metadata": {},
     "output_type": "execute_result"
    }
   ],
   "source": [
    "feature_names"
   ]
  },
  {
   "cell_type": "code",
   "execution_count": 20,
   "metadata": {},
   "outputs": [
    {
     "data": {
      "text/plain": [
       "Day of Week     int64\n",
       "Week Number    UInt32\n",
       "dtype: object"
      ]
     },
     "execution_count": 20,
     "metadata": {},
     "output_type": "execute_result"
    }
   ],
   "source": [
    "data.dtypes"
   ]
  },
  {
   "cell_type": "code",
   "execution_count": 33,
   "metadata": {},
   "outputs": [
    {
     "name": "stdout",
     "output_type": "stream",
     "text": [
      "[[0. 0. 0. ... 0. 0. 0.]\n",
      " [0. 0. 0. ... 0. 0. 0.]\n",
      " [0. 0. 0. ... 0. 0. 0.]\n",
      " ...\n",
      " [0. 1. 0. ... 0. 0. 0.]\n",
      " [0. 1. 0. ... 0. 0. 0.]\n",
      " [0. 1. 0. ... 0. 0. 0.]]\n"
     ]
    }
   ],
   "source": [
    "from numpy import asarray\n",
    "from sklearn.preprocessing import OneHotEncoder\n",
    "# define one hot encoding\n",
    "encoder = OneHotEncoder(sparse=False)\n",
    "# transform data\n",
    "onehot = encoder.fit_transform(data)\n",
    "print(onehot)"
   ]
  },
  {
   "cell_type": "code",
   "execution_count": 68,
   "metadata": {},
   "outputs": [],
   "source": [
    "from sklearn.model_selection import train_test_split\n",
    "X_train, X_test, y_train, y_test = train_test_split(onehot, target, random_state=42)"
   ]
  },
  {
   "cell_type": "code",
   "execution_count": 70,
   "metadata": {},
   "outputs": [
    {
     "data": {
      "text/plain": [
       "0.4845440494590417"
      ]
     },
     "execution_count": 70,
     "metadata": {},
     "output_type": "execute_result"
    }
   ],
   "source": [
    "rf = RandomForestClassifier(n_estimators=300)\n",
    "rf = rf.fit(X_train, y_train)\n",
    "rf.score(X_test, y_test)"
   ]
  },
  {
   "cell_type": "code",
   "execution_count": 56,
   "metadata": {},
   "outputs": [
    {
     "data": {
      "text/plain": [
       "array([0.07489436, 0.57594168, 0.34916396])"
      ]
     },
     "execution_count": 56,
     "metadata": {},
     "output_type": "execute_result"
    }
   ],
   "source": [
    "importances = rf.feature_importances_\n",
    "importances"
   ]
  },
  {
   "cell_type": "code",
   "execution_count": 57,
   "metadata": {},
   "outputs": [
    {
     "data": {
      "text/plain": [
       "[(0.5759416774057736, 'Week Number'),\n",
       " (0.3491639606754054, 'Hour'),\n",
       " (0.07489436191882094, 'Day of Week')]"
      ]
     },
     "execution_count": 57,
     "metadata": {},
     "output_type": "execute_result"
    }
   ],
   "source": [
    "sorted(zip(rf.feature_importances_, feature_names), reverse=True)"
   ]
  },
  {
   "cell_type": "code",
   "execution_count": 72,
   "metadata": {},
   "outputs": [
    {
     "data": {
      "text/html": [
       "<div>\n",
       "<style scoped>\n",
       "    .dataframe tbody tr th:only-of-type {\n",
       "        vertical-align: middle;\n",
       "    }\n",
       "\n",
       "    .dataframe tbody tr th {\n",
       "        vertical-align: top;\n",
       "    }\n",
       "\n",
       "    .dataframe thead th {\n",
       "        text-align: right;\n",
       "    }\n",
       "</style>\n",
       "<table border=\"1\" class=\"dataframe\">\n",
       "  <thead>\n",
       "    <tr style=\"text-align: right;\">\n",
       "      <th></th>\n",
       "      <th>Day of Week</th>\n",
       "      <th>Week Number</th>\n",
       "      <th>Hour</th>\n",
       "    </tr>\n",
       "  </thead>\n",
       "  <tbody>\n",
       "    <tr>\n",
       "      <th>0</th>\n",
       "      <td>5</td>\n",
       "      <td>26</td>\n",
       "      <td>11</td>\n",
       "    </tr>\n",
       "    <tr>\n",
       "      <th>1</th>\n",
       "      <td>5</td>\n",
       "      <td>26</td>\n",
       "      <td>12</td>\n",
       "    </tr>\n",
       "    <tr>\n",
       "      <th>2</th>\n",
       "      <td>5</td>\n",
       "      <td>26</td>\n",
       "      <td>13</td>\n",
       "    </tr>\n",
       "    <tr>\n",
       "      <th>3</th>\n",
       "      <td>5</td>\n",
       "      <td>26</td>\n",
       "      <td>14</td>\n",
       "    </tr>\n",
       "    <tr>\n",
       "      <th>4</th>\n",
       "      <td>5</td>\n",
       "      <td>26</td>\n",
       "      <td>15</td>\n",
       "    </tr>\n",
       "    <tr>\n",
       "      <th>...</th>\n",
       "      <td>...</td>\n",
       "      <td>...</td>\n",
       "      <td>...</td>\n",
       "    </tr>\n",
       "    <tr>\n",
       "      <th>15520</th>\n",
       "      <td>1</td>\n",
       "      <td>26</td>\n",
       "      <td>14</td>\n",
       "    </tr>\n",
       "    <tr>\n",
       "      <th>15521</th>\n",
       "      <td>1</td>\n",
       "      <td>26</td>\n",
       "      <td>15</td>\n",
       "    </tr>\n",
       "    <tr>\n",
       "      <th>15522</th>\n",
       "      <td>1</td>\n",
       "      <td>26</td>\n",
       "      <td>16</td>\n",
       "    </tr>\n",
       "    <tr>\n",
       "      <th>15523</th>\n",
       "      <td>1</td>\n",
       "      <td>26</td>\n",
       "      <td>17</td>\n",
       "    </tr>\n",
       "    <tr>\n",
       "      <th>15524</th>\n",
       "      <td>1</td>\n",
       "      <td>26</td>\n",
       "      <td>18</td>\n",
       "    </tr>\n",
       "  </tbody>\n",
       "</table>\n",
       "<p>15525 rows × 3 columns</p>\n",
       "</div>"
      ],
      "text/plain": [
       "       Day of Week  Week Number  Hour\n",
       "0                5           26    11\n",
       "1                5           26    12\n",
       "2                5           26    13\n",
       "3                5           26    14\n",
       "4                5           26    15\n",
       "...            ...          ...   ...\n",
       "15520            1           26    14\n",
       "15521            1           26    15\n",
       "15522            1           26    16\n",
       "15523            1           26    17\n",
       "15524            1           26    18\n",
       "\n",
       "[15525 rows x 3 columns]"
      ]
     },
     "execution_count": 72,
     "metadata": {},
     "output_type": "execute_result"
    }
   ],
   "source": [
    "data"
   ]
  },
  {
   "cell_type": "code",
   "execution_count": 58,
   "metadata": {},
   "outputs": [
    {
     "name": "stdout",
     "output_type": "stream",
     "text": [
      "(15525, 79) (15525, 1)\n"
     ]
    }
   ],
   "source": [
    "X = onehot\n",
    "y = WeatherSalesDF['Sales'].values.reshape(-1, 1)\n",
    "print(X.shape, y.shape)"
   ]
  },
  {
   "cell_type": "code",
   "execution_count": 59,
   "metadata": {},
   "outputs": [],
   "source": [
    "from sklearn.model_selection import train_test_split\n",
    "\n",
    "X_train, X_test, y_train, y_test = train_test_split(X, y, random_state=42)"
   ]
  },
  {
   "cell_type": "code",
   "execution_count": 60,
   "metadata": {},
   "outputs": [],
   "source": [
    "from sklearn.preprocessing import StandardScaler\n",
    "\n",
    "# Create a StandardScater model and fit it to the training data\n",
    "\n",
    "### BEGIN SOLUTION\n",
    "X_scaler = StandardScaler().fit(X_train)\n",
    "y_scaler = StandardScaler().fit(y_train)\n",
    "### END SOLUTION"
   ]
  },
  {
   "cell_type": "code",
   "execution_count": 61,
   "metadata": {},
   "outputs": [],
   "source": [
    "X_train_scaled = X_scaler.transform(X_train)\n",
    "X_test_scaled = X_scaler.transform(X_test)\n",
    "y_train_scaled = y_scaler.transform(y_train)\n",
    "y_test_scaled = y_scaler.transform(y_test)"
   ]
  },
  {
   "cell_type": "code",
   "execution_count": 62,
   "metadata": {},
   "outputs": [
    {
     "data": {
      "text/plain": [
       "LinearRegression()"
      ]
     },
     "execution_count": 62,
     "metadata": {},
     "output_type": "execute_result"
    }
   ],
   "source": [
    "from sklearn.linear_model import LinearRegression\n",
    "model = LinearRegression()\n",
    "model.fit(X_train_scaled, y_train_scaled)\n"
   ]
  },
  {
   "cell_type": "code",
   "execution_count": 63,
   "metadata": {},
   "outputs": [
    {
     "data": {
      "image/png": "[encoded data removed]",
      "text/plain": [
       "<Figure size 432x288 with 1 Axes>"
      ]
     },
     "metadata": {
      "needs_background": "light"
     },
     "output_type": "display_data"
    }
   ],
   "source": [
    "predictions = model.predict(X_test_scaled)\n",
    "model.fit(X_train_scaled, y_train_scaled)\n",
    "plt.scatter(model.predict(X_train_scaled), y_train_scaled - model.predict(X_train_scaled), c=\"blue\", label=\"Training Data\")\n",
    "plt.scatter(model.predict(X_test_scaled), y_test_scaled - model.predict(X_test_scaled), c=\"orange\", label=\"Testing Data\")\n",
    "plt.legend()\n",
    "plt.hlines(y=0, xmin=y_test_scaled.min(), xmax=y_test_scaled.max())\n",
    "plt.title(\"Residual Plot\")\n",
    "plt.show()"
   ]
  },
  {
   "cell_type": "code",
   "execution_count": 64,
   "metadata": {},
   "outputs": [
    {
     "name": "stdout",
     "output_type": "stream",
     "text": [
      "MSE: 0.39659671012912445, R2: 0.5911979038427069\n"
     ]
    }
   ],
   "source": [
    "from sklearn.metrics import mean_squared_error\n",
    "\n",
    "MSE = mean_squared_error(y_test_scaled, predictions)\n",
    "r2 = model.score(X_test_scaled, y_test_scaled)\n",
    "### END SOLUTION\n",
    "\n",
    "print(f\"MSE: {MSE}, R2: {r2}\")"
   ]
  },
  {
   "cell_type": "code",
   "execution_count": 65,
   "metadata": {},
   "outputs": [
    {
     "name": "stdout",
     "output_type": "stream",
     "text": [
      "MSE: 0.4019094123115584, R2: 0.5857217016126599\n"
     ]
    }
   ],
   "source": [
    "from sklearn.linear_model import Lasso\n",
    "\n",
    "### BEGIN SOLUTION\n",
    "lasso = Lasso(alpha=.01).fit(X_train_scaled, y_train_scaled)\n",
    "\n",
    "predictions = lasso.predict(X_test_scaled)\n",
    "\n",
    "MSE = mean_squared_error(y_test_scaled, predictions)\n",
    "r2 = lasso.score(X_test_scaled, y_test_scaled)\n",
    "### END SOLUTION\n",
    "\n",
    "print(f\"MSE: {MSE}, R2: {r2}\")"
   ]
  },
  {
   "cell_type": "code",
   "execution_count": 66,
   "metadata": {},
   "outputs": [
    {
     "name": "stdout",
     "output_type": "stream",
     "text": [
      "MSE: 0.39662819618789236, R2: 0.5911654487907729\n"
     ]
    }
   ],
   "source": [
    "from sklearn.linear_model import Ridge\n",
    "\n",
    "### BEGIN SOLUTION\n",
    "ridge = Ridge(alpha=.01).fit(X_train_scaled, y_train_scaled)\n",
    "\n",
    "predictions = ridge.predict(X_test_scaled)\n",
    "\n",
    "MSE = mean_squared_error(y_test_scaled, predictions)\n",
    "r2 = ridge.score(X_test_scaled, y_test_scaled)\n",
    "### END SOLUTION\n",
    "\n",
    "print(f\"MSE: {MSE}, R2: {r2}\")"
   ]
  },
  {
   "cell_type": "code",
   "execution_count": 67,
   "metadata": {},
   "outputs": [
    {
     "name": "stdout",
     "output_type": "stream",
     "text": [
      "MSE: 0.39769567144644247, R2: 0.5900651216520298\n"
     ]
    }
   ],
   "source": [
    "from sklearn.linear_model import ElasticNet\n",
    "\n",
    "### BEGIN SOLUTION\n",
    "elasticnet = ElasticNet(alpha=.01).fit(X_train_scaled, y_train_scaled)\n",
    "\n",
    "predictions = elasticnet.predict(X_test_scaled)\n",
    "\n",
    "MSE = mean_squared_error(y_test_scaled, predictions)\n",
    "r2 = elasticnet.score(X_test_scaled, y_test_scaled)\n",
    "### END SOLUTION\n",
    "\n",
    "print(f\"MSE: {MSE}, R2: {r2}\")"
   ]
  }
 ],
 "metadata": {
  "kernelspec": {
   "display_name": "Python [conda env:PythonAdv]",
   "language": "python",
   "name": "conda-env-PythonAdv-py"
  },
  "language_info": {
   "codemirror_mode": {
    "name": "ipython",
    "version": 3
   },
   "file_extension": ".py",
   "mimetype": "text/x-python",
   "name": "python",
   "nbconvert_exporter": "python",
   "pygments_lexer": "ipython3",
   "version": "3.6.13"
  }
 },
 "nbformat": 4,
 "nbformat_minor": 4
}
